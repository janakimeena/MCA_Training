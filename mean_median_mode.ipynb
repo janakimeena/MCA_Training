{
  "nbformat": 4,
  "nbformat_minor": 0,
  "metadata": {
    "colab": {
      "name": "mean_median_mode.ipynb",
      "provenance": [],
      "collapsed_sections": [],
      "include_colab_link": true
    },
    "kernelspec": {
      "name": "python3",
      "display_name": "Python 3"
    }
  },
  "cells": [
    {
      "cell_type": "markdown",
      "metadata": {
        "id": "view-in-github",
        "colab_type": "text"
      },
      "source": [
        "<a href=\"https://colab.research.google.com/github/janakimeena/MCA_Training/blob/master/mean_median_mode.ipynb\" target=\"_parent\"><img src=\"https://colab.research.google.com/assets/colab-badge.svg\" alt=\"Open In Colab\"/></a>"
      ]
    },
    {
      "cell_type": "code",
      "metadata": {
        "id": "Ad65_FQUeD3p",
        "colab_type": "code",
        "outputId": "219632e3-add5-4b50-fd35-a23d3949c8c4",
        "colab": {
          "base_uri": "https://localhost:8080/",
          "height": 35
        }
      },
      "source": [
        "n = int(input('Enter number of elements'))"
      ],
      "execution_count": 0,
      "outputs": [
        {
          "output_type": "stream",
          "text": [
            "Enter number of elements5\n"
          ],
          "name": "stdout"
        }
      ]
    },
    {
      "cell_type": "code",
      "metadata": {
        "id": "NOuO9oD_hoF6",
        "colab_type": "code",
        "colab": {}
      },
      "source": [
        "ele = []"
      ],
      "execution_count": 0,
      "outputs": []
    },
    {
      "cell_type": "code",
      "metadata": {
        "id": "3K9cPQNVkP0w",
        "colab_type": "code",
        "outputId": "7dc47f5d-da92-4dbe-e9cf-2b284a9329dd",
        "colab": {
          "base_uri": "https://localhost:8080/",
          "height": 35
        }
      },
      "source": [
        "for i in range(0,n):\n",
        "  e = int(input('enter elements'))\n",
        "  ele.append(e)\n",
        "print(ele)"
      ],
      "execution_count": 0,
      "outputs": [
        {
          "output_type": "stream",
          "text": [
            "enter elements12\n"
          ],
          "name": "stdout"
        }
      ]
    },
    {
      "cell_type": "code",
      "metadata": {
        "id": "Y7DlOEv4kxyU",
        "colab_type": "code",
        "outputId": "1d59f3e5-a112-48c6-edf9-1f7403bdd08e",
        "colab": {
          "base_uri": "https://localhost:8080/",
          "height": 35
        }
      },
      "source": [
        "print(ele)"
      ],
      "execution_count": 0,
      "outputs": [
        {
          "output_type": "stream",
          "text": [
            "[12]\n"
          ],
          "name": "stdout"
        }
      ]
    },
    {
      "cell_type": "code",
      "metadata": {
        "id": "5IG0qCrck2Zn",
        "colab_type": "code",
        "colab": {}
      },
      "source": [
        "sum1 = 0\n",
        "for x in ele:\n",
        "  sum1+=x\n",
        "print('Mean is',sum1/n)"
      ],
      "execution_count": 0,
      "outputs": []
    },
    {
      "cell_type": "code",
      "metadata": {
        "id": "YRVBallj1Fzs",
        "colab_type": "code",
        "outputId": "9289cf50-80ed-4439-8878-e437a0739605",
        "colab": {
          "base_uri": "https://localhost:8080/",
          "height": 35
        }
      },
      "source": [
        "ele.sort()\n",
        "print(ele)"
      ],
      "execution_count": 0,
      "outputs": [
        {
          "output_type": "stream",
          "text": [
            "[12]\n"
          ],
          "name": "stdout"
        }
      ]
    },
    {
      "cell_type": "code",
      "metadata": {
        "id": "3Uio6bx51H2E",
        "colab_type": "code",
        "colab": {}
      },
      "source": [
        "ele.sort(reverse=True)\n",
        "print(ele)"
      ],
      "execution_count": 0,
      "outputs": []
    },
    {
      "cell_type": "code",
      "metadata": {
        "id": "GTFsT7mP3Sqc",
        "colab_type": "code",
        "colab": {}
      },
      "source": [
        "if n%2 != 0:\n",
        "  print('Median is ',ele[n//2])\n",
        "else:\n",
        "  f = ele[n//2]\n",
        "  s = ele[(n//2)-1]\n",
        "  print('Median is ',(f+s)/2)"
      ],
      "execution_count": 0,
      "outputs": []
    },
    {
      "cell_type": "code",
      "metadata": {
        "id": "NYxTn-l46PiP",
        "colab_type": "code",
        "outputId": "998c0e04-5606-46ab-ec58-81cbb23bc7c7",
        "colab": {
          "base_uri": "https://localhost:8080/",
          "height": 35
        }
      },
      "source": [
        "mode = 0\n",
        "mode_freq = 0\n",
        "d = {}\n",
        "for x in ele:\n",
        "  freq = ele.count(x)\n",
        "  if freq>mode_freq:\n",
        "    mode_freq = freq\n",
        "  if not freq in d:\n",
        "    d[freq] = [x]\n",
        "  else:\n",
        "    if not x in d[freq]:\n",
        "      d[freq].append(x)\n",
        "mode_l = d[mode_freq]\n",
        "print('Modes are')\n",
        "for m in mode_l:\n",
        "  print(m,end=' ')\n",
        "\n"
      ],
      "execution_count": 0,
      "outputs": [
        {
          "output_type": "execute_result",
          "data": {
            "text/plain": [
              "1"
            ]
          },
          "metadata": {
            "tags": []
          },
          "execution_count": 9
        }
      ]
    },
    {
      "cell_type": "code",
      "metadata": {
        "id": "-MCLtsQQ6UFi",
        "colab_type": "code",
        "colab": {}
      },
      "source": [
        "d = {1:'hello',2:'fr'}"
      ],
      "execution_count": 0,
      "outputs": []
    },
    {
      "cell_type": "code",
      "metadata": {
        "id": "4oVd_TQn-4yN",
        "colab_type": "code",
        "outputId": "83a968ca-82ab-4216-a1f6-de67dad01d3a",
        "colab": {
          "base_uri": "https://localhost:8080/",
          "height": 35
        }
      },
      "source": [
        "print(d.get(3))\n"
      ],
      "execution_count": 0,
      "outputs": [
        {
          "output_type": "stream",
          "text": [
            "None\n"
          ],
          "name": "stdout"
        }
      ]
    },
    {
      "cell_type": "code",
      "metadata": {
        "id": "8AmpnD2K-6cM",
        "colab_type": "code",
        "colab": {}
      },
      "source": [
        "3 in d"
      ],
      "execution_count": 0,
      "outputs": []
    },
    {
      "cell_type": "code",
      "metadata": {
        "id": "CVI9iZkZ-92z",
        "colab_type": "code",
        "outputId": "f8ed2791-3738-4770-f653-41e9ed837e4b",
        "colab": {
          "base_uri": "https://localhost:8080/",
          "height": 52
        }
      },
      "source": [
        "import math\n",
        "n = int(input('enter number'))\n",
        "l = 2\n",
        "u = int(math.sqrt(n))\n",
        "\n",
        "for i in range(l,u+1):\n",
        "  if n%i == 0:\n",
        "    print('Composite')\n",
        "    break\n",
        "else:\n",
        "  print('Prime')"
      ],
      "execution_count": 0,
      "outputs": [
        {
          "output_type": "stream",
          "text": [
            "enter number12\n",
            "Composite\n"
          ],
          "name": "stdout"
        }
      ]
    },
    {
      "cell_type": "code",
      "metadata": {
        "id": "5IsyuPeOG0ip",
        "colab_type": "code",
        "outputId": "693070db-9ea5-40b5-d551-baf2c7d83dad",
        "colab": {
          "base_uri": "https://localhost:8080/",
          "height": 140
        }
      },
      "source": [
        "string = 'fun'\n",
        "while string!='stop':    \n",
        "  string = input('Enter stop to terminate')\n",
        "  if string=='fun':\n",
        "    continue\n",
        "  print(string)\n",
        "  "
      ],
      "execution_count": 0,
      "outputs": [
        {
          "output_type": "stream",
          "text": [
            "Enter stop to terminateapple\n",
            "apple\n",
            "Enter stop to terminatefun\n",
            "Enter stop to terminateball\n",
            "ball\n",
            "Enter stop to terminatestop\n",
            "stop\n"
          ],
          "name": "stdout"
        }
      ]
    },
    {
      "cell_type": "code",
      "metadata": {
        "id": "s1wGReX6KIm8",
        "colab_type": "code",
        "colab": {}
      },
      "source": [
        ""
      ],
      "execution_count": 0,
      "outputs": []
    }
  ]
}